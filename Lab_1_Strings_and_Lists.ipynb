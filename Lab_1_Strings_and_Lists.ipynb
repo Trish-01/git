{
  "nbformat": 4,
  "nbformat_minor": 0,
  "metadata": {
    "colab": {
      "provenance": [],
      "include_colab_link": true
    },
    "kernelspec": {
      "name": "python3",
      "display_name": "Python 3"
    },
    "language_info": {
      "name": "python"
    }
  },
  "cells": [
    {
      "cell_type": "markdown",
      "metadata": {
        "id": "view-in-github",
        "colab_type": "text"
      },
      "source": [
        "<a href=\"https://colab.research.google.com/github/Trish-01/git/blob/main/Lab_1_Strings_and_Lists.ipynb\" target=\"_parent\"><img src=\"https://colab.research.google.com/assets/colab-badge.svg\" alt=\"Open In Colab\"/></a>"
      ]
    },
    {
      "cell_type": "markdown",
      "source": [
        "# **Question 1**\n"
      ],
      "metadata": {
        "id": "RczTU8lWTSjx"
      }
    },
    {
      "cell_type": "code",
      "source": [
        "text = \"The quick brown fox jumps over the lazy dog.\""
      ],
      "metadata": {
        "id": "TJ77RCpTTl7s"
      },
      "execution_count": 1,
      "outputs": []
    },
    {
      "cell_type": "markdown",
      "source": [
        "- I have created a variable called ***text***. Run the cell above to store the data in memory.\n",
        "- Run the cell below to check the data type of the data referenced by the variable ***text***"
      ],
      "metadata": {
        "id": "Z62wrlA1TjvY"
      }
    },
    {
      "cell_type": "code",
      "execution_count": 2,
      "metadata": {
        "id": "jRUxK8XURJe4",
        "colab": {
          "base_uri": "https://localhost:8080/"
        },
        "outputId": "51efd63f-f9c3-4993-a1b2-de09b0ac3ab6"
      },
      "outputs": [
        {
          "output_type": "execute_result",
          "data": {
            "text/plain": [
              "str"
            ]
          },
          "metadata": {},
          "execution_count": 2
        }
      ],
      "source": [
        "type(text)"
      ]
    },
    {
      "cell_type": "markdown",
      "source": [
        "a) Chek if the text is in lower case. If not convert it."
      ],
      "metadata": {
        "id": "egnkvrNoU35v"
      }
    },
    {
      "cell_type": "code",
      "source": [
        "text.islower()"
      ],
      "metadata": {
        "id": "3zxaE2ovUxoH",
        "colab": {
          "base_uri": "https://localhost:8080/"
        },
        "outputId": "54c9ff35-71c0-453a-8008-dff6de3a807c"
      },
      "execution_count": 3,
      "outputs": [
        {
          "output_type": "execute_result",
          "data": {
            "text/plain": [
              "False"
            ]
          },
          "metadata": {},
          "execution_count": 3
        }
      ]
    },
    {
      "cell_type": "code",
      "source": [
        "text.lower()"
      ],
      "metadata": {
        "id": "r0aCqTxeVazc",
        "colab": {
          "base_uri": "https://localhost:8080/",
          "height": 35
        },
        "outputId": "ddc0112a-d2a1-41ce-f2d5-1bca0e6a389d"
      },
      "execution_count": 5,
      "outputs": [
        {
          "output_type": "execute_result",
          "data": {
            "text/plain": [
              "'the quick brown fox jumps over the lazy dog'"
            ],
            "application/vnd.google.colaboratory.intrinsic+json": {
              "type": "string"
            }
          },
          "metadata": {},
          "execution_count": 5
        }
      ]
    },
    {
      "cell_type": "markdown",
      "source": [
        "b) Check if the text is in upper case. If not convert it."
      ],
      "metadata": {
        "id": "j5XKFzEaU_Er"
      }
    },
    {
      "cell_type": "code",
      "source": [
        "text.isupper()"
      ],
      "metadata": {
        "id": "duhvuZZAVFBE",
        "colab": {
          "base_uri": "https://localhost:8080/"
        },
        "outputId": "9404064d-1a1c-4818-e832-dbc5eb5583fe"
      },
      "execution_count": 6,
      "outputs": [
        {
          "output_type": "execute_result",
          "data": {
            "text/plain": [
              "False"
            ]
          },
          "metadata": {},
          "execution_count": 6
        }
      ]
    },
    {
      "cell_type": "code",
      "source": [
        "text.upper()"
      ],
      "metadata": {
        "id": "AP-tVK5SVbRm",
        "colab": {
          "base_uri": "https://localhost:8080/",
          "height": 35
        },
        "outputId": "f64cbede-a4f4-42aa-e276-8a1782e4576e"
      },
      "execution_count": 7,
      "outputs": [
        {
          "output_type": "execute_result",
          "data": {
            "text/plain": [
              "'THE QUICK BROWN FOX JUMPS OVER THE LAZY DOG'"
            ],
            "application/vnd.google.colaboratory.intrinsic+json": {
              "type": "string"
            }
          },
          "metadata": {},
          "execution_count": 7
        }
      ]
    },
    {
      "cell_type": "markdown",
      "source": [
        "c) Check if the text is in sentence case. If not convert it."
      ],
      "metadata": {
        "id": "oVOhyIj8VFmj"
      }
    },
    {
      "cell_type": "code",
      "source": [
        "def is_sentence_case(text):\n",
        "    # Check if the first character is uppercase and the rest of the sentence is lowercase then checking for punction mark\n",
        "    if text[0].isupper() and text[1:].islower() and text.endswith('.'):\n",
        "        return True\n",
        "    else:\n",
        "        return False\n",
        "\n",
        "is_sentence_case(text)"
      ],
      "metadata": {
        "id": "oxj5WAolVKM0",
        "colab": {
          "base_uri": "https://localhost:8080/"
        },
        "outputId": "73ffd120-7c3e-4a49-aa15-8e50e48ef039"
      },
      "execution_count": 23,
      "outputs": [
        {
          "output_type": "execute_result",
          "data": {
            "text/plain": [
              "False"
            ]
          },
          "metadata": {},
          "execution_count": 23
        }
      ]
    },
    {
      "cell_type": "code",
      "source": [
        "text.capitalize()"
      ],
      "metadata": {
        "id": "swiFMdgoVbwQ",
        "colab": {
          "base_uri": "https://localhost:8080/",
          "height": 35
        },
        "outputId": "bdc1eed3-ba17-4bd9-8190-ab5e219b1070"
      },
      "execution_count": 12,
      "outputs": [
        {
          "output_type": "execute_result",
          "data": {
            "text/plain": [
              "'The quick brown fox jumps over the lazy dog'"
            ],
            "application/vnd.google.colaboratory.intrinsic+json": {
              "type": "string"
            }
          },
          "metadata": {},
          "execution_count": 12
        }
      ]
    },
    {
      "cell_type": "code",
      "source": [
        "text"
      ],
      "metadata": {
        "id": "qlWstWWPOdMj"
      },
      "execution_count": null,
      "outputs": []
    },
    {
      "cell_type": "markdown",
      "source": [
        "d) Check if the text is in title case. If not convert it."
      ],
      "metadata": {
        "id": "vpCF_BMSVKyG"
      }
    },
    {
      "cell_type": "code",
      "source": [
        "text.istitle()"
      ],
      "metadata": {
        "id": "Y6x-4edCVPYN",
        "colab": {
          "base_uri": "https://localhost:8080/"
        },
        "outputId": "5202ed61-1ab9-4dc5-fe65-6f5eb6953587"
      },
      "execution_count": 10,
      "outputs": [
        {
          "output_type": "execute_result",
          "data": {
            "text/plain": [
              "False"
            ]
          },
          "metadata": {},
          "execution_count": 10
        }
      ]
    },
    {
      "cell_type": "code",
      "source": [
        "text.title()"
      ],
      "metadata": {
        "id": "PDcWcLVOVcM7",
        "colab": {
          "base_uri": "https://localhost:8080/",
          "height": 35
        },
        "outputId": "7a50b71f-ddf5-4c53-8758-2595c61e0d93"
      },
      "execution_count": 11,
      "outputs": [
        {
          "output_type": "execute_result",
          "data": {
            "text/plain": [
              "'The Quick Brown Fox Jumps Over The Lazy Dog'"
            ],
            "application/vnd.google.colaboratory.intrinsic+json": {
              "type": "string"
            }
          },
          "metadata": {},
          "execution_count": 11
        }
      ]
    },
    {
      "cell_type": "markdown",
      "source": [
        "e) Find the number of characters in the variable called ***text***"
      ],
      "metadata": {
        "id": "xo4s--htVc6Y"
      }
    },
    {
      "cell_type": "code",
      "source": [
        "text.count('')"
      ],
      "metadata": {
        "id": "YtYY-rGWVm1j",
        "colab": {
          "base_uri": "https://localhost:8080/"
        },
        "outputId": "d725f1af-a964-4dab-87f1-5bd44f544d84"
      },
      "execution_count": 27,
      "outputs": [
        {
          "output_type": "execute_result",
          "data": {
            "text/plain": [
              "44"
            ]
          },
          "metadata": {},
          "execution_count": 27
        }
      ]
    },
    {
      "cell_type": "markdown",
      "source": [
        "f) Find the index position of the word fox"
      ],
      "metadata": {
        "id": "Bz-RxsuVVoWI"
      }
    },
    {
      "cell_type": "code",
      "source": [
        "\n",
        "index_position = text.find(\"fox\")\n",
        "print(index_position)\n"
      ],
      "metadata": {
        "id": "c9SdEekLV8Zb",
        "colab": {
          "base_uri": "https://localhost:8080/"
        },
        "outputId": "921959b0-fa1c-409d-b972-a10452c301ed"
      },
      "execution_count": 28,
      "outputs": [
        {
          "output_type": "stream",
          "name": "stdout",
          "text": [
            "16\n"
          ]
        }
      ]
    },
    {
      "cell_type": "markdown",
      "source": [
        "g) Replace the word fox with lion"
      ],
      "metadata": {
        "id": "-w9sQf7JWAdK"
      }
    },
    {
      "cell_type": "code",
      "source": [
        "new_text = text.replace(\"fox\", \"lion\")\n",
        "\n",
        "print(new_text)"
      ],
      "metadata": {
        "id": "ZRZdUQKJWHX3",
        "colab": {
          "base_uri": "https://localhost:8080/"
        },
        "outputId": "fcdb2294-bd24-45a8-f6fe-180b569d3fb2"
      },
      "execution_count": 29,
      "outputs": [
        {
          "output_type": "stream",
          "name": "stdout",
          "text": [
            "The quick brown lion jumps over the lazy dog\n"
          ]
        }
      ]
    },
    {
      "cell_type": "markdown",
      "source": [
        "h) Split the sentence into a list of words i.e splitting by the space"
      ],
      "metadata": {
        "id": "FeMKON7lWH4g"
      }
    },
    {
      "cell_type": "code",
      "source": [
        "list = text.split()\n",
        "\n",
        "print(list)"
      ],
      "metadata": {
        "id": "udHYlx0IWSJW",
        "colab": {
          "base_uri": "https://localhost:8080/"
        },
        "outputId": "f01a5f9d-5520-4a01-9379-bcf3fb6be8ee"
      },
      "execution_count": 30,
      "outputs": [
        {
          "output_type": "stream",
          "name": "stdout",
          "text": [
            "['The', 'quick', 'brown', 'fox', 'jumps', 'over', 'the', 'lazy', 'dog']\n"
          ]
        }
      ]
    },
    {
      "cell_type": "markdown",
      "source": [
        "# **Question 2**"
      ],
      "metadata": {
        "id": "a-ibqhpEWStv"
      }
    },
    {
      "cell_type": "markdown",
      "source": [
        "a) Create a list which contains the first the following names of people (I have chosen the names at random):\n",
        "\n",
        "Peter, John, Marry, Thomas, Tatenda"
      ],
      "metadata": {
        "id": "EPGzwwyYWglx"
      }
    },
    {
      "cell_type": "code",
      "source": [
        "list2 = [\"Peter\", \"John\", \"Marry\", \"Thomas\", \"Tatenda\"]\n",
        "\n",
        "print(list2)"
      ],
      "metadata": {
        "id": "-rGJPlYWWWa3",
        "colab": {
          "base_uri": "https://localhost:8080/"
        },
        "outputId": "b64c324d-01c6-457e-eda7-f49ef4e55284"
      },
      "execution_count": 31,
      "outputs": [
        {
          "output_type": "stream",
          "name": "stdout",
          "text": [
            "['Peter', 'John', 'Marry', 'Thomas', 'Tatenda']\n"
          ]
        }
      ]
    },
    {
      "cell_type": "markdown",
      "source": [
        "b) Find the number of elements in the list"
      ],
      "metadata": {
        "id": "CJyWfZavW7gN"
      }
    },
    {
      "cell_type": "code",
      "source": [
        "len(list2)"
      ],
      "metadata": {
        "id": "XR9IYrL8XE47",
        "colab": {
          "base_uri": "https://localhost:8080/"
        },
        "outputId": "9e7624ec-de0b-4294-cbdb-b00c55c795ce"
      },
      "execution_count": 32,
      "outputs": [
        {
          "output_type": "execute_result",
          "data": {
            "text/plain": [
              "5"
            ]
          },
          "metadata": {},
          "execution_count": 32
        }
      ]
    },
    {
      "cell_type": "markdown",
      "source": [
        "c) Add another person called John"
      ],
      "metadata": {
        "id": "KXFSoha7XHPr"
      }
    },
    {
      "cell_type": "code",
      "source": [
        "list2.append(\"John\")\n",
        "\n",
        "print(list2)"
      ],
      "metadata": {
        "id": "YPYEFLfJXM-S",
        "colab": {
          "base_uri": "https://localhost:8080/"
        },
        "outputId": "4d1867a6-609c-4f44-d8ba-de9515996a70"
      },
      "execution_count": 33,
      "outputs": [
        {
          "output_type": "stream",
          "name": "stdout",
          "text": [
            "['Peter', 'John', 'Marry', 'Thomas', 'Tatenda', 'John']\n"
          ]
        }
      ]
    },
    {
      "cell_type": "code",
      "source": [],
      "metadata": {
        "id": "KFFZyShPLePn"
      },
      "execution_count": null,
      "outputs": []
    },
    {
      "cell_type": "markdown",
      "source": [
        "d) Add the following people in the list:\n",
        "\n",
        "Mary, John, Tino,Mary"
      ],
      "metadata": {
        "id": "ZAfOTaHYXQf2"
      }
    },
    {
      "cell_type": "code",
      "source": [
        "list2.extend([\"Mary\", \"John\", \"Tino\", \"Mary\"])\n",
        "\n",
        "print(list2)"
      ],
      "metadata": {
        "id": "3WGN4J4aXkad",
        "colab": {
          "base_uri": "https://localhost:8080/"
        },
        "outputId": "f1220f2f-b8b4-4355-a0f4-c13a351e5d50"
      },
      "execution_count": 34,
      "outputs": [
        {
          "output_type": "stream",
          "name": "stdout",
          "text": [
            "['Peter', 'John', 'Marry', 'Thomas', 'Tatenda', 'John', 'Mary', 'John', 'Tino', 'Mary']\n"
          ]
        }
      ]
    },
    {
      "cell_type": "markdown",
      "source": [
        "e) How many Mary's, John's and Thomas's do we have in the list?"
      ],
      "metadata": {
        "id": "j0Z_dFGVXmyP"
      }
    },
    {
      "cell_type": "code",
      "source": [
        "mary_count = list2.count(\"Mary\")\n",
        "john_count = list2.count(\"John\")\n",
        "thomas_count = list2.count(\"Thomas\")\n",
        "\n",
        "print(f\"Mary: {mary_count}\")\n",
        "print(f\"John: {john_count}\")\n",
        "print(f\"Thomas: {thomas_count}\")"
      ],
      "metadata": {
        "id": "DUy4yMBwYDLM",
        "colab": {
          "base_uri": "https://localhost:8080/"
        },
        "outputId": "5cb37b1b-4fce-4cdb-f723-992b801e2d33"
      },
      "execution_count": 35,
      "outputs": [
        {
          "output_type": "stream",
          "name": "stdout",
          "text": [
            "Mary: 2\n",
            "John: 3\n",
            "Thomas: 1\n"
          ]
        }
      ]
    },
    {
      "cell_type": "code",
      "source": [],
      "metadata": {
        "id": "sT7qLsESYSt4"
      },
      "execution_count": null,
      "outputs": []
    },
    {
      "cell_type": "code",
      "source": [],
      "metadata": {
        "id": "LdDpkNsaYSi7"
      },
      "execution_count": null,
      "outputs": []
    },
    {
      "cell_type": "markdown",
      "source": [
        "f) Insert Tom on index position 3"
      ],
      "metadata": {
        "id": "M_TKBDujYDv0"
      }
    },
    {
      "cell_type": "code",
      "source": [
        "list2.insert(3, \"Tom\")\n",
        "\n",
        "print(list2)"
      ],
      "metadata": {
        "id": "TwoZblmrYIUj",
        "colab": {
          "base_uri": "https://localhost:8080/"
        },
        "outputId": "ce582a35-31ac-4775-adf4-3dc2f17b80ff"
      },
      "execution_count": 36,
      "outputs": [
        {
          "output_type": "stream",
          "name": "stdout",
          "text": [
            "['Peter', 'John', 'Marry', 'Tom', 'Thomas', 'Tatenda', 'John', 'Mary', 'John', 'Tino', 'Mary']\n"
          ]
        }
      ]
    },
    {
      "cell_type": "markdown",
      "source": [
        "g) Find the index position of the first occurence of Mary"
      ],
      "metadata": {
        "id": "DWMKdI9QYJNX"
      }
    },
    {
      "cell_type": "code",
      "source": [
        "list2.index(\"Mary\")\n",
        "\n"
      ],
      "metadata": {
        "id": "qsjn16rLYQJK",
        "colab": {
          "base_uri": "https://localhost:8080/"
        },
        "outputId": "c993a26b-1d2c-4187-88b0-b7e06a0d0f4a"
      },
      "execution_count": 37,
      "outputs": [
        {
          "output_type": "execute_result",
          "data": {
            "text/plain": [
              "7"
            ]
          },
          "metadata": {},
          "execution_count": 37
        }
      ]
    },
    {
      "cell_type": "markdown",
      "source": [
        "h) Remove Tino from the list"
      ],
      "metadata": {
        "id": "QD3CE8BDYTWc"
      }
    },
    {
      "cell_type": "code",
      "source": [
        "list2.remove(\"Tino\")\n",
        "\n",
        "print(list2)"
      ],
      "metadata": {
        "id": "61TZhpAIYan4",
        "colab": {
          "base_uri": "https://localhost:8080/"
        },
        "outputId": "99307815-0d74-4e9e-a4ca-b135f0ba7d57"
      },
      "execution_count": 38,
      "outputs": [
        {
          "output_type": "stream",
          "name": "stdout",
          "text": [
            "['Peter', 'John', 'Marry', 'Tom', 'Thomas', 'Tatenda', 'John', 'Mary', 'John', 'Mary']\n"
          ]
        }
      ]
    },
    {
      "cell_type": "code",
      "source": [],
      "metadata": {
        "id": "Ki0-BnKyMmGX"
      },
      "execution_count": null,
      "outputs": []
    }
  ]
}